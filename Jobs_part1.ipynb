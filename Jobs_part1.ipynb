{
 "cells": [
  {
   "cell_type": "markdown",
   "metadata": {},
   "source": [
    "# Scraping \n",
    "## 1.2"
   ]
  },
  {
   "cell_type": "code",
   "execution_count": 21,
   "metadata": {},
   "outputs": [],
   "source": [
    "import pandas as pd\n",
    "import os\n",
    "from bs4 import BeautifulSoup as bs\n"
   ]
  },
  {
   "cell_type": "code",
   "execution_count": 22,
   "metadata": {},
   "outputs": [],
   "source": [
    "# Gather all the file names\n",
    "folder = r'D:\\Jobs'\n",
    "files = list(os.listdir(folder))\n"
   ]
  },
  {
   "cell_type": "code",
   "execution_count": 23,
   "metadata": {},
   "outputs": [],
   "source": [
    "# Load from files\n",
    "html =[]\n",
    "\n",
    "for i, file in enumerate(files):\n",
    "    f = open(os.path.join(folder, file), encoding='utf8')\n",
    "    with f:\n",
    "        html1 = f.read()\n",
    "        html.append(html1)\n",
    "\n",
    "# Create soup objects and extract text\n",
    "soup = []\n",
    "title = []\n",
    "text = []\n",
    "bulletPoints = []\n",
    "\n",
    "for i, file in enumerate (files):\n",
    "    soup1= bs(html[i])\n",
    "    soup.append(soup1)\n",
    "    \n",
    "    title1 = soup1.find('title')\n",
    "    title.append(title1.text)\n",
    "    \n",
    "    text.append(soup1.body.text)\n",
    "    \n",
    "    bullet = soup1.find('ul')\n",
    "    bulletPoints.append(bullet)   \n"
   ]
  },
  {
   "cell_type": "code",
   "execution_count": 24,
   "metadata": {},
   "outputs": [],
   "source": [
    "# Remove duplicates\n",
    "unique_text = set(text)\n"
   ]
  },
  {
   "cell_type": "code",
   "execution_count": 25,
   "metadata": {},
   "outputs": [
    {
     "data": {
      "text/html": [
       "<div>\n",
       "<style scoped>\n",
       "    .dataframe tbody tr th:only-of-type {\n",
       "        vertical-align: middle;\n",
       "    }\n",
       "\n",
       "    .dataframe tbody tr th {\n",
       "        vertical-align: top;\n",
       "    }\n",
       "\n",
       "    .dataframe thead th {\n",
       "        text-align: right;\n",
       "    }\n",
       "</style>\n",
       "<table border=\"1\" class=\"dataframe\">\n",
       "  <thead>\n",
       "    <tr style=\"text-align: right;\">\n",
       "      <th></th>\n",
       "      <th>FileName</th>\n",
       "      <th>JobTitle</th>\n",
       "      <th>FullDescription</th>\n",
       "      <th>BulletPoints</th>\n",
       "    </tr>\n",
       "  </thead>\n",
       "  <tbody>\n",
       "    <tr>\n",
       "      <td>0</td>\n",
       "      <td>001b92395ed0fb62_fccid.html</td>\n",
       "      <td>Data Engineer - Columbus, GA 31909</td>\n",
       "      <td>Data Scientist III - Pasadena, CA 91101\\nMust ...</td>\n",
       "      <td>[[Bachelor’s or Master’s degree in statistics,...</td>\n",
       "    </tr>\n",
       "    <tr>\n",
       "      <td>1</td>\n",
       "      <td>00321a48d04fe754_fccid.html</td>\n",
       "      <td>Data Analyst - St. Louis, MO</td>\n",
       "      <td>Scientific Programmer - Berkeley, CA 94710\\nCa...</td>\n",
       "      <td>[[US Citizenship is required.], \\n, [Designate...</td>\n",
       "    </tr>\n",
       "    <tr>\n",
       "      <td>2</td>\n",
       "      <td>0079c11b2611349f_fccid.html</td>\n",
       "      <td>Data Scientist - Newark, CA</td>\n",
       "      <td>Data Scientist – Statistics and Machine Learni...</td>\n",
       "      <td>[[ Design, develop, document and maintain mach...</td>\n",
       "    </tr>\n",
       "    <tr>\n",
       "      <td>3</td>\n",
       "      <td>007d9d7b5c09d820_fccid.html</td>\n",
       "      <td>Patient Care Assistant / PCA - Med/Surg (Fayet...</td>\n",
       "      <td>Sales Executive - San Mateo, CA\\nLocation: San...</td>\n",
       "      <td>[[Provides all personal care services in accor...</td>\n",
       "    </tr>\n",
       "    <tr>\n",
       "      <td>4</td>\n",
       "      <td>0125eabc844281c9_fccid.html</td>\n",
       "      <td>Scientific Programmer - Berkeley, CA</td>\n",
       "      <td>Research Scientist in Natural Language Process...</td>\n",
       "      <td>[\\n, [Demonstrated proficiency with Python, Ja...</td>\n",
       "    </tr>\n",
       "  </tbody>\n",
       "</table>\n",
       "</div>"
      ],
      "text/plain": [
       "                      FileName  \\\n",
       "0  001b92395ed0fb62_fccid.html   \n",
       "1  00321a48d04fe754_fccid.html   \n",
       "2  0079c11b2611349f_fccid.html   \n",
       "3  007d9d7b5c09d820_fccid.html   \n",
       "4  0125eabc844281c9_fccid.html   \n",
       "\n",
       "                                            JobTitle  \\\n",
       "0                 Data Engineer - Columbus, GA 31909   \n",
       "1                       Data Analyst - St. Louis, MO   \n",
       "2                        Data Scientist - Newark, CA   \n",
       "3  Patient Care Assistant / PCA - Med/Surg (Fayet...   \n",
       "4               Scientific Programmer - Berkeley, CA   \n",
       "\n",
       "                                     FullDescription  \\\n",
       "0  Data Scientist III - Pasadena, CA 91101\\nMust ...   \n",
       "1  Scientific Programmer - Berkeley, CA 94710\\nCa...   \n",
       "2  Data Scientist – Statistics and Machine Learni...   \n",
       "3  Sales Executive - San Mateo, CA\\nLocation: San...   \n",
       "4  Research Scientist in Natural Language Process...   \n",
       "\n",
       "                                        BulletPoints  \n",
       "0  [[Bachelor’s or Master’s degree in statistics,...  \n",
       "1  [[US Citizenship is required.], \\n, [Designate...  \n",
       "2  [[ Design, develop, document and maintain mach...  \n",
       "3  [[Provides all personal care services in accor...  \n",
       "4  [\\n, [Demonstrated proficiency with Python, Ja...  "
      ]
     },
     "execution_count": 25,
     "metadata": {},
     "output_type": "execute_result"
    }
   ],
   "source": [
    "colNames = [\"FileName\", \"JobTitle\", \"FullDescription\",\"BulletPoints\"]\n",
    "colData = [files, title, unique_text, bulletPoints]\n",
    "df = pd.DataFrame(colData).T\n",
    "df.columns = colNames\n",
    "df.head()"
   ]
  },
  {
   "cell_type": "code",
   "execution_count": 14,
   "metadata": {},
   "outputs": [
    {
     "data": {
      "text/html": [
       "<div>\n",
       "<style scoped>\n",
       "    .dataframe tbody tr th:only-of-type {\n",
       "        vertical-align: middle;\n",
       "    }\n",
       "\n",
       "    .dataframe tbody tr th {\n",
       "        vertical-align: top;\n",
       "    }\n",
       "\n",
       "    .dataframe thead th {\n",
       "        text-align: right;\n",
       "    }\n",
       "</style>\n",
       "<table border=\"1\" class=\"dataframe\">\n",
       "  <thead>\n",
       "    <tr style=\"text-align: right;\">\n",
       "      <th></th>\n",
       "      <th>FileName</th>\n",
       "      <th>JobTitle</th>\n",
       "      <th>FullDescription</th>\n",
       "      <th>BulletPoints</th>\n",
       "    </tr>\n",
       "  </thead>\n",
       "  <tbody>\n",
       "    <tr>\n",
       "      <td>count</td>\n",
       "      <td>693</td>\n",
       "      <td>693</td>\n",
       "      <td>693</td>\n",
       "      <td>548</td>\n",
       "    </tr>\n",
       "    <tr>\n",
       "      <td>unique</td>\n",
       "      <td>693</td>\n",
       "      <td>659</td>\n",
       "      <td>693</td>\n",
       "      <td>518</td>\n",
       "    </tr>\n",
       "    <tr>\n",
       "      <td>top</td>\n",
       "      <td>bcef184e72342741_fccid.html</td>\n",
       "      <td>Data Scientist - San Francisco, CA</td>\n",
       "      <td>Senior Data Scientist - Santa Barbara, CA\\nCom...</td>\n",
       "      <td>[[Designs and enhances databases.], [Designs m...</td>\n",
       "    </tr>\n",
       "    <tr>\n",
       "      <td>freq</td>\n",
       "      <td>1</td>\n",
       "      <td>8</td>\n",
       "      <td>1</td>\n",
       "      <td>3</td>\n",
       "    </tr>\n",
       "  </tbody>\n",
       "</table>\n",
       "</div>"
      ],
      "text/plain": [
       "                           FileName                            JobTitle  \\\n",
       "count                           693                                 693   \n",
       "unique                          693                                 659   \n",
       "top     bcef184e72342741_fccid.html  Data Scientist - San Francisco, CA   \n",
       "freq                              1                                   8   \n",
       "\n",
       "                                          FullDescription  \\\n",
       "count                                                 693   \n",
       "unique                                                693   \n",
       "top     Senior Data Scientist - Santa Barbara, CA\\nCom...   \n",
       "freq                                                    1   \n",
       "\n",
       "                                             BulletPoints  \n",
       "count                                                 548  \n",
       "unique                                                518  \n",
       "top     [[Designs and enhances databases.], [Designs m...  \n",
       "freq                                                    3  "
      ]
     },
     "execution_count": 14,
     "metadata": {},
     "output_type": "execute_result"
    }
   ],
   "source": [
    "#df.dropna()\n",
    "\n",
    "presumed_ds = df[\"FullDescription\"].str.lower().str.contains(\"data sci\", na=False)\n",
    "df2 = df[presumed_ds]\n",
    "df2.describe()\n"
   ]
  },
  {
   "cell_type": "code",
   "execution_count": 15,
   "metadata": {},
   "outputs": [],
   "source": [
    "df.to_csv(\"Data_science_jobs_Early.csv\")"
   ]
  }
 ],
 "metadata": {
  "kernelspec": {
   "display_name": "Python 3",
   "language": "python",
   "name": "python3"
  },
  "language_info": {
   "codemirror_mode": {
    "name": "ipython",
    "version": 3
   },
   "file_extension": ".py",
   "mimetype": "text/x-python",
   "name": "python",
   "nbconvert_exporter": "python",
   "pygments_lexer": "ipython3",
   "version": "3.7.4"
  }
 },
 "nbformat": 4,
 "nbformat_minor": 2
}
